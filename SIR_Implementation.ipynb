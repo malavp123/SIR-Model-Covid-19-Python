{
  "nbformat": 4,
  "nbformat_minor": 0,
  "metadata": {
    "kernelspec": {
      "display_name": "Python 3",
      "language": "python",
      "name": "python3"
    },
    "language_info": {
      "codemirror_mode": {
        "name": "ipython",
        "version": 3
      },
      "file_extension": ".py",
      "mimetype": "text/x-python",
      "name": "python",
      "nbconvert_exporter": "python",
      "pygments_lexer": "ipython3",
      "version": "3.7.3"
    },
    "colab": {
      "name": "SIR_Implementation.ipynb",
      "provenance": [],
      "collapsed_sections": []
    }
  },
  "cells": [
    {
      "cell_type": "code",
      "metadata": {
        "id": "jSUSwJH0gkCG"
      },
      "source": [
        "import numpy as np\n",
        "import pandas as pd\n",
        "import math \n",
        "\n",
        "\n",
        "\n",
        "#Initializing the mobility matrix for all 133 counties of virginia\n",
        "#Mobility across the same county is 1\n",
        "\n",
        "a = np.random.rand(133,133)\n",
        "np.fill_diagonal(a,1)\n"
      ],
      "execution_count": null,
      "outputs": []
    },
    {
      "cell_type": "code",
      "metadata": {
        "id": "LZNHMqLagkCN"
      },
      "source": [
        "df1=pd.read_csv('FinalData.csv', sep=',',header=None)"
      ],
      "execution_count": null,
      "outputs": []
    },
    {
      "cell_type": "code",
      "metadata": {
        "id": "yttvV76CgkCQ"
      },
      "source": [
        "new_header = df1.iloc[0] #grab the first row for the header\n",
        "df1 = df1[1:] #take the data less the header row\n",
        "df1.columns = new_header #set the header row as the df header"
      ],
      "execution_count": null,
      "outputs": []
    },
    {
      "cell_type": "code",
      "metadata": {
        "id": "2kCabQ6YgkCV"
      },
      "source": [
        "#Converting the datatypes\n",
        "\n",
        "D = df1.to_numpy()\n",
        "Y = D[:,-3]\n",
        "Y.astype(float)\n",
        "R = D[:,-1]\n",
        "R.astype(float)\n",
        "S = D[:,-2]\n",
        "S.astype(float)\n",
        "X = D[:,-4]\n",
        "X.astype(float)"
      ],
      "execution_count": null,
      "outputs": []
    },
    {
      "cell_type": "code",
      "metadata": {
        "id": "3LY1WLT2gkCa"
      },
      "source": [
        "#X = Ratio of people who are infected\n",
        "#Y = Ratio of people who have died\n",
        "#S = Ratio of people who are susceptible\n",
        "#R = Ratio of people who have recovered\n",
        "\n",
        "\n",
        "X=pd.read_csv('X.csv', sep=',',header=None)\n",
        "Y=pd.read_csv('Y.csv', sep=',',header=None)\n",
        "R=pd.read_csv('R.csv', sep=',',header=None)\n",
        "S=pd.read_csv('S.csv', sep=',',header=None)"
      ],
      "execution_count": null,
      "outputs": []
    },
    {
      "cell_type": "code",
      "metadata": {
        "id": "bzAcK2SVgkCe"
      },
      "source": [
        "#Converting the dataframes to Numpy arrays\n",
        "\n",
        "X = X.to_numpy()\n",
        "Y = Y.to_numpy()\n",
        "S = S.to_numpy()\n",
        "R = R.to_numpy()"
      ],
      "execution_count": null,
      "outputs": []
    },
    {
      "cell_type": "code",
      "metadata": {
        "id": "bmuRPqTOgkCj"
      },
      "source": [
        "#Initializing parameters\n",
        "\n",
        "B = np.random.rand(174,1)*1.5\n",
        "shape = Y.shape\n",
        "M = np.random.rand(shape[0],shape[1])\n",
        "np.fill_diagonal(M,1)\n",
        "print(\"M\",M.shape)\n",
        "H = np.zeros((123,174))"
      ],
      "execution_count": null,
      "outputs": []
    },
    {
      "cell_type": "code",
      "metadata": {
        "id": "YwfvHgHWgkCx"
      },
      "source": [
        "for t in range(174):\n",
        "    H = B*S"
      ],
      "execution_count": null,
      "outputs": []
    },
    {
      "cell_type": "code",
      "metadata": {
        "id": "WWxM4ozhgkC0"
      },
      "source": [
        "#Computing the H matrix that yeilds the probability\n",
        "\n",
        "for t in range(0,174):\n",
        "    for j in range(0,123):\n",
        "        for k in range(0,123):\n",
        "            sum1 = (M[j][k])**t * X[k][t] * Y[j][t]\n",
        "            \n",
        "        H[t][j] = (B[t]*S[j][t]*(1-math.exp(-sum1)))/(1+(B[t]*Y[j][t])) "
      ],
      "execution_count": null,
      "outputs": []
    }
  ]
}